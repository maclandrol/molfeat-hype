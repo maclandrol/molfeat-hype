{
 "cells": [
  {
   "cell_type": "code",
   "execution_count": 1,
   "metadata": {},
   "outputs": [],
   "source": [
    "%load_ext autoreload\n",
    "%autoreload 2"
   ]
  },
  {
   "cell_type": "code",
   "execution_count": 2,
   "metadata": {},
   "outputs": [
    {
     "name": "stderr",
     "output_type": "stream",
     "text": [
      "/Users/manu/.miniconda/envs/molfeat_hype/lib/python3.10/site-packages/tqdm/auto.py:21: TqdmWarning: IProgress not found. Please update jupyter and ipywidgets. See https://ipywidgets.readthedocs.io/en/stable/user_install.html\n",
      "  from .autonotebook import tqdm as notebook_tqdm\n"
     ]
    }
   ],
   "source": [
    "from molfeat_hype.trans.llm_embeddings import LLMEmbeddingsTransformer"
   ]
  },
  {
   "cell_type": "code",
   "execution_count": 3,
   "metadata": {},
   "outputs": [
    {
     "data": {
      "text/plain": [
       "array(['CN(C)C(=O)c1ccc(cc1)OC', 'CS(=O)(=O)Cl', 'CC(C)C=C', 'CCc1cnccn1',\n",
       "       'CCCCCCCO'], dtype=object)"
      ]
     },
     "execution_count": 3,
     "metadata": {},
     "output_type": "execute_result"
    }
   ],
   "source": [
    "import datamol as dm\n",
    "smiles = dm.freesolv()[\"smiles\"].values[:5]\n",
    "smiles"
   ]
  },
  {
   "attachments": {},
   "cell_type": "markdown",
   "metadata": {},
   "source": [
    "In these examples we will explore various embeddings provided by the `molfeat-hype` plugin of `molfeat`"
   ]
  },
  {
   "attachments": {},
   "cell_type": "markdown",
   "metadata": {},
   "source": [
    "## Classical Embeddings"
   ]
  },
  {
   "attachments": {},
   "cell_type": "markdown",
   "metadata": {},
   "source": [
    "### Using the OPENAI API for embeddings"
   ]
  },
  {
   "cell_type": "code",
   "execution_count": 9,
   "metadata": {},
   "outputs": [
    {
     "data": {
      "text/plain": [
       "(5, 1536)"
      ]
     },
     "execution_count": 9,
     "metadata": {},
     "output_type": "execute_result"
    }
   ],
   "source": [
    "embedder = LLMEmbeddingsTransformer(kind=\"openai/text-embedding-ada-002\")\n",
    "out = embedder(smiles)\n",
    "out.shape"
   ]
  },
  {
   "cell_type": "code",
   "execution_count": 10,
   "metadata": {},
   "outputs": [
    {
     "name": "stderr",
     "output_type": "stream",
     "text": [
      "\u001b[32m2023-04-24 00:05:52.800\u001b[0m | \u001b[33m\u001b[1mWARNING \u001b[0m | \u001b[36mmolfeat.trans.base\u001b[0m:\u001b[36m__init__\u001b[0m:\u001b[36m51\u001b[0m - \u001b[33m\u001b[1mThe 'LLMEmbeddingsTransformer' interaction has been superseded by a new class with id 0x7f8099a64590\u001b[0m\n"
     ]
    },
    {
     "data": {
      "text/plain": [
       "1536"
      ]
     },
     "execution_count": 10,
     "metadata": {},
     "output_type": "execute_result"
    }
   ],
   "source": [
    "len(embedder)"
   ]
  },
  {
   "cell_type": "code",
   "execution_count": 8,
   "metadata": {},
   "outputs": [
    {
     "data": {
      "text/plain": [
       "1536"
      ]
     },
     "execution_count": 8,
     "metadata": {},
     "output_type": "execute_result"
    }
   ],
   "source": [
    "# the cache should have this molecule\n",
    "len(embedder.precompute_cache.get(\"CCCCCCCO\"))"
   ]
  },
  {
   "attachments": {},
   "cell_type": "markdown",
   "metadata": {},
   "source": [
    "### Using the Sentence-Transformers models"
   ]
  },
  {
   "cell_type": "code",
   "execution_count": 11,
   "metadata": {},
   "outputs": [
    {
     "name": "stderr",
     "output_type": "stream",
     "text": [
      "Downloading (…)a8e1d/.gitattributes: 100%|██████████| 1.18k/1.18k [00:00<00:00, 399kB/s]\n",
      "Downloading (…)_Pooling/config.json: 100%|██████████| 190/190 [00:00<00:00, 74.1kB/s]\n",
      "Downloading (…)b20bca8e1d/README.md: 100%|██████████| 10.6k/10.6k [00:00<00:00, 3.72MB/s]\n",
      "Downloading (…)0bca8e1d/config.json: 100%|██████████| 571/571 [00:00<00:00, 247kB/s]\n",
      "Downloading (…)ce_transformers.json: 100%|██████████| 116/116 [00:00<00:00, 34.8kB/s]\n",
      "Downloading (…)e1d/data_config.json: 100%|██████████| 39.3k/39.3k [00:00<00:00, 8.73MB/s]\n",
      "Downloading pytorch_model.bin: 100%|██████████| 438M/438M [00:52<00:00, 8.32MB/s] \n",
      "Downloading (…)nce_bert_config.json: 100%|██████████| 53.0/53.0 [00:00<00:00, 13.4kB/s]\n",
      "Downloading (…)cial_tokens_map.json: 100%|██████████| 239/239 [00:00<00:00, 79.9kB/s]\n",
      "Downloading (…)a8e1d/tokenizer.json: 100%|██████████| 466k/466k [00:00<00:00, 5.11MB/s]\n",
      "Downloading (…)okenizer_config.json: 100%|██████████| 363/363 [00:00<00:00, 88.3kB/s]\n",
      "Downloading (…)8e1d/train_script.py: 100%|██████████| 13.1k/13.1k [00:00<00:00, 3.61MB/s]\n",
      "Downloading (…)b20bca8e1d/vocab.txt: 100%|██████████| 232k/232k [00:00<00:00, 1.93MB/s]\n",
      "Downloading (…)bca8e1d/modules.json: 100%|██████████| 349/349 [00:00<00:00, 62.9kB/s]\n"
     ]
    },
    {
     "data": {
      "text/plain": [
       "(5, 768)"
      ]
     },
     "execution_count": 11,
     "metadata": {},
     "output_type": "execute_result"
    }
   ],
   "source": [
    "embedder = LLMEmbeddingsTransformer(kind=\"sentence-transformers/all-mpnet-base-v2\")\n",
    "out = embedder(smiles)\n",
    "out.shape"
   ]
  },
  {
   "attachments": {},
   "cell_type": "markdown",
   "metadata": {},
   "source": [
    "### Using the Llama weights\n",
    "\n",
    "To use the Llama weights, you need to obtain them first, then follow the instruction provided in the [llama.cpp](https://github.com/ggerganov/llama.cpp) repo to get 4-bits quantization of model weight."
   ]
  },
  {
   "cell_type": "code",
   "execution_count": null,
   "metadata": {},
   "outputs": [],
   "source": [
    "lama_quantized_model_path = \"~/Code/llama.cpp/models/7B/ggml-model-q4_0.bin\""
   ]
  },
  {
   "attachments": {},
   "cell_type": "markdown",
   "metadata": {},
   "source": [
    "### Case 1 : Importing the calculator from molfeat_hype"
   ]
  },
  {
   "cell_type": "code",
   "execution_count": 3,
   "metadata": {},
   "outputs": [
    {
     "data": {
      "text/plain": [
       "(5, 2756)"
      ]
     },
     "execution_count": 3,
     "metadata": {},
     "output_type": "execute_result"
    }
   ],
   "source": [
    "from molfeat.trans import MoleculeTransformer\n",
    "from molfeat_padel.calc import PadelDescriptors\n",
    "\n",
    "mol_transf = MoleculeTransformer(featurizer=PadelDescriptors(), dtype=float)\n",
    "out = mol_transf(smiles)\n",
    "out.shape"
   ]
  },
  {
   "attachments": {},
   "cell_type": "markdown",
   "metadata": {},
   "source": [
    "### Case 2: auto registration of calculators"
   ]
  },
  {
   "cell_type": "code",
   "execution_count": 4,
   "metadata": {},
   "outputs": [
    {
     "name": "stdout",
     "output_type": "stream",
     "text": [
      "{'AtomCalculator': <class 'molfeat.calc.atom.AtomCalculator'>,\n",
      " 'AtomMaterialCalculator': <class 'molfeat.calc.atom.AtomMaterialCalculator'>,\n",
      " 'BondCalculator': <class 'molfeat.calc.bond.BondCalculator'>,\n",
      " 'CATS': <class 'molfeat.calc.cats.CATS'>,\n",
      " 'DGLCanonicalAtomCalculator': <class 'molfeat.calc.atom.DGLCanonicalAtomCalculator'>,\n",
      " 'DGLCanonicalBondCalculator': <class 'molfeat.calc.bond.DGLCanonicalBondCalculator'>,\n",
      " 'DGLWeaveAtomCalculator': <class 'molfeat.calc.atom.DGLWeaveAtomCalculator'>,\n",
      " 'DGLWeaveEdgeCalculator': <class 'molfeat.calc.bond.DGLWeaveEdgeCalculator'>,\n",
      " 'EdgeMatCalculator': <class 'molfeat.calc.bond.EdgeMatCalculator'>,\n",
      " 'ElectroShapeDescriptors': <class 'molfeat.calc.shape.ElectroShapeDescriptors'>,\n",
      " 'FPCalculator': <class 'molfeat.calc.fingerprints.FPCalculator'>,\n",
      " 'MordredDescriptors': <class 'molfeat.calc.descriptors.MordredDescriptors'>,\n",
      " 'PadelDescriptors': <class 'molfeat_padel.calc.padel.PadelDescriptors'>,\n",
      " 'Pharmacophore2D': <class 'molfeat.calc.pharmacophore.Pharmacophore2D'>,\n",
      " 'Pharmacophore3D': <class 'molfeat.calc.pharmacophore.Pharmacophore3D'>,\n",
      " 'RDKitDescriptors2D': <class 'molfeat.calc.descriptors.RDKitDescriptors2D'>,\n",
      " 'RDKitDescriptors3D': <class 'molfeat.calc.descriptors.RDKitDescriptors3D'>,\n",
      " 'ScaffoldKeyCalculator': <class 'molfeat.calc.skeys.ScaffoldKeyCalculator'>,\n",
      " 'USRDescriptors': <class 'molfeat.calc.shape.USRDescriptors'>}\n"
     ]
    }
   ],
   "source": [
    "import molfeat_padel\n",
    "\n",
    "# importing molfeat_pade makes PadelDescriptors one of the available calculators in molfeat\n",
    "from molfeat.calc import _CALCULATORS\n",
    "pprint(_CALCULATORS)"
   ]
  },
  {
   "cell_type": "code",
   "execution_count": 5,
   "metadata": {},
   "outputs": [
    {
     "data": {
      "text/plain": [
       "(5, 2756)"
      ]
     },
     "execution_count": 5,
     "metadata": {},
     "output_type": "execute_result"
    }
   ],
   "source": [
    "# this is now possible\n",
    "mol_transf = MoleculeTransformer(featurizer=\"PadelDescriptors\")\n",
    "out = mol_transf(smiles)\n",
    "out.shape"
   ]
  },
  {
   "cell_type": "markdown",
   "metadata": {},
   "source": [
    "### Case 3: Use (auto-)discovery"
   ]
  },
  {
   "cell_type": "code",
   "execution_count": 6,
   "metadata": {},
   "outputs": [],
   "source": [
    "from molfeat.trans import MoleculeTransformer\n",
    "from molfeat.plugins import load_registered_plugins\n",
    "# In this example we specifiy the plugins we want to load, \n",
    "# but you can also load all plugins by keeping the default value of `plugins`\n",
    "load_registered_plugins(add_submodules=True, plugins=[\"molfeat_padel\"])"
   ]
  },
  {
   "cell_type": "code",
   "execution_count": 7,
   "metadata": {},
   "outputs": [
    {
     "data": {
      "text/plain": [
       "(5, 2756)"
      ]
     },
     "execution_count": 7,
     "metadata": {},
     "output_type": "execute_result"
    }
   ],
   "source": [
    "# PadelDescriptors is also now a part of molfeat\n",
    "from molfeat.calc import PadelDescriptors\n",
    "mol_transf = MoleculeTransformer(featurizer=PadelDescriptors())\n",
    "out = mol_transf(smiles)\n",
    "out.shape"
   ]
  },
  {
   "cell_type": "code",
   "execution_count": 8,
   "metadata": {},
   "outputs": [
    {
     "name": "stdout",
     "output_type": "stream",
     "text": [
      "{'AtomCalculator': <class 'molfeat.calc.atom.AtomCalculator'>,\n",
      " 'AtomMaterialCalculator': <class 'molfeat.calc.atom.AtomMaterialCalculator'>,\n",
      " 'BondCalculator': <class 'molfeat.calc.bond.BondCalculator'>,\n",
      " 'CATS': <class 'molfeat.calc.cats.CATS'>,\n",
      " 'DGLCanonicalAtomCalculator': <class 'molfeat.calc.atom.DGLCanonicalAtomCalculator'>,\n",
      " 'DGLCanonicalBondCalculator': <class 'molfeat.calc.bond.DGLCanonicalBondCalculator'>,\n",
      " 'DGLWeaveAtomCalculator': <class 'molfeat.calc.atom.DGLWeaveAtomCalculator'>,\n",
      " 'DGLWeaveEdgeCalculator': <class 'molfeat.calc.bond.DGLWeaveEdgeCalculator'>,\n",
      " 'EdgeMatCalculator': <class 'molfeat.calc.bond.EdgeMatCalculator'>,\n",
      " 'ElectroShapeDescriptors': <class 'molfeat.calc.shape.ElectroShapeDescriptors'>,\n",
      " 'FPCalculator': <class 'molfeat.calc.fingerprints.FPCalculator'>,\n",
      " 'MordredDescriptors': <class 'molfeat.calc.descriptors.MordredDescriptors'>,\n",
      " 'PadelDescriptors': <class 'molfeat_padel.calc.padel.PadelDescriptors'>,\n",
      " 'Pharmacophore2D': <class 'molfeat.calc.pharmacophore.Pharmacophore2D'>,\n",
      " 'Pharmacophore3D': <class 'molfeat.calc.pharmacophore.Pharmacophore3D'>,\n",
      " 'RDKitDescriptors2D': <class 'molfeat.calc.descriptors.RDKitDescriptors2D'>,\n",
      " 'RDKitDescriptors3D': <class 'molfeat.calc.descriptors.RDKitDescriptors3D'>,\n",
      " 'ScaffoldKeyCalculator': <class 'molfeat.calc.skeys.ScaffoldKeyCalculator'>,\n",
      " 'USRDescriptors': <class 'molfeat.calc.shape.USRDescriptors'>}\n"
     ]
    }
   ],
   "source": [
    "# it's also in the list of calculators, similar to case 2\n",
    "from molfeat.calc import _CALCULATORS\n",
    "pprint(_CALCULATORS)"
   ]
  }
 ],
 "metadata": {
  "kernelspec": {
   "display_name": "Python 3",
   "language": "python",
   "name": "python3"
  },
  "language_info": {
   "codemirror_mode": {
    "name": "ipython",
    "version": 3
   },
   "file_extension": ".py",
   "mimetype": "text/x-python",
   "name": "python",
   "nbconvert_exporter": "python",
   "pygments_lexer": "ipython3",
   "version": "3.10.10"
  },
  "orig_nbformat": 4
 },
 "nbformat": 4,
 "nbformat_minor": 2
}
