{
 "cells": [
  {
   "cell_type": "code",
   "execution_count": 1,
   "metadata": {},
   "outputs": [],
   "source": [
    "%load_ext autoreload\n",
    "%autoreload 2"
   ]
  },
  {
   "cell_type": "markdown",
   "metadata": {},
   "source": [
    "In this example we will explore multiple ways of using the `molfeat-padel` plugin of `molfeat`"
   ]
  },
  {
   "cell_type": "code",
   "execution_count": 2,
   "metadata": {},
   "outputs": [],
   "source": [
    "from pprint import pprint\n",
    "import datamol as dm\n",
    "\n",
    "smiles = dm.freesolv()[\"smiles\"].values[:5]"
   ]
  },
  {
   "attachments": {},
   "cell_type": "markdown",
   "metadata": {},
   "source": [
    "### Case 1 : Importing the calculator from molfeat_padel"
   ]
  },
  {
   "cell_type": "code",
   "execution_count": 3,
   "metadata": {},
   "outputs": [
    {
     "data": {
      "text/plain": [
       "(5, 2756)"
      ]
     },
     "execution_count": 3,
     "metadata": {},
     "output_type": "execute_result"
    }
   ],
   "source": [
    "from molfeat.trans import MoleculeTransformer\n",
    "from molfeat_padel.calc import PadelDescriptors\n",
    "\n",
    "mol_transf = MoleculeTransformer(featurizer=PadelDescriptors(), dtype=float)\n",
    "out = mol_transf(smiles)\n",
    "out.shape"
   ]
  },
  {
   "attachments": {},
   "cell_type": "markdown",
   "metadata": {},
   "source": [
    "### Case 2: auto registration of calculators"
   ]
  },
  {
   "cell_type": "code",
   "execution_count": 4,
   "metadata": {},
   "outputs": [
    {
     "name": "stdout",
     "output_type": "stream",
     "text": [
      "{'AtomCalculator': <class 'molfeat.calc.atom.AtomCalculator'>,\n",
      " 'AtomMaterialCalculator': <class 'molfeat.calc.atom.AtomMaterialCalculator'>,\n",
      " 'BondCalculator': <class 'molfeat.calc.bond.BondCalculator'>,\n",
      " 'CATS': <class 'molfeat.calc.cats.CATS'>,\n",
      " 'DGLCanonicalAtomCalculator': <class 'molfeat.calc.atom.DGLCanonicalAtomCalculator'>,\n",
      " 'DGLCanonicalBondCalculator': <class 'molfeat.calc.bond.DGLCanonicalBondCalculator'>,\n",
      " 'DGLWeaveAtomCalculator': <class 'molfeat.calc.atom.DGLWeaveAtomCalculator'>,\n",
      " 'DGLWeaveEdgeCalculator': <class 'molfeat.calc.bond.DGLWeaveEdgeCalculator'>,\n",
      " 'EdgeMatCalculator': <class 'molfeat.calc.bond.EdgeMatCalculator'>,\n",
      " 'ElectroShapeDescriptors': <class 'molfeat.calc.shape.ElectroShapeDescriptors'>,\n",
      " 'FPCalculator': <class 'molfeat.calc.fingerprints.FPCalculator'>,\n",
      " 'MordredDescriptors': <class 'molfeat.calc.descriptors.MordredDescriptors'>,\n",
      " 'PadelDescriptors': <class 'molfeat_padel.calc.padel.PadelDescriptors'>,\n",
      " 'Pharmacophore2D': <class 'molfeat.calc.pharmacophore.Pharmacophore2D'>,\n",
      " 'Pharmacophore3D': <class 'molfeat.calc.pharmacophore.Pharmacophore3D'>,\n",
      " 'RDKitDescriptors2D': <class 'molfeat.calc.descriptors.RDKitDescriptors2D'>,\n",
      " 'RDKitDescriptors3D': <class 'molfeat.calc.descriptors.RDKitDescriptors3D'>,\n",
      " 'ScaffoldKeyCalculator': <class 'molfeat.calc.skeys.ScaffoldKeyCalculator'>,\n",
      " 'USRDescriptors': <class 'molfeat.calc.shape.USRDescriptors'>}\n"
     ]
    }
   ],
   "source": [
    "import molfeat_padel\n",
    "\n",
    "# importing molfeat_pade makes PadelDescriptors one of the available calculators in molfeat\n",
    "from molfeat.calc import _CALCULATORS\n",
    "pprint(_CALCULATORS)"
   ]
  },
  {
   "cell_type": "code",
   "execution_count": 5,
   "metadata": {},
   "outputs": [
    {
     "data": {
      "text/plain": [
       "(5, 2756)"
      ]
     },
     "execution_count": 5,
     "metadata": {},
     "output_type": "execute_result"
    }
   ],
   "source": [
    "# this is now possible\n",
    "mol_transf = MoleculeTransformer(featurizer=\"PadelDescriptors\")\n",
    "out = mol_transf(smiles)\n",
    "out.shape"
   ]
  },
  {
   "cell_type": "markdown",
   "metadata": {},
   "source": [
    "### Case 3: Use (auto-)discovery"
   ]
  },
  {
   "cell_type": "code",
   "execution_count": 6,
   "metadata": {},
   "outputs": [],
   "source": [
    "from molfeat.trans import MoleculeTransformer\n",
    "from molfeat.plugins import load_registered_plugins\n",
    "# In this example we specifiy the plugins we want to load, \n",
    "# but you can also load all plugins by keeping the default value of `plugins`\n",
    "load_registered_plugins(add_submodules=True, plugins=[\"molfeat_padel\"])"
   ]
  },
  {
   "cell_type": "code",
   "execution_count": 7,
   "metadata": {},
   "outputs": [
    {
     "data": {
      "text/plain": [
       "(5, 2756)"
      ]
     },
     "execution_count": 7,
     "metadata": {},
     "output_type": "execute_result"
    }
   ],
   "source": [
    "# PadelDescriptors is also now a part of molfeat\n",
    "from molfeat.calc import PadelDescriptors\n",
    "mol_transf = MoleculeTransformer(featurizer=PadelDescriptors())\n",
    "out = mol_transf(smiles)\n",
    "out.shape"
   ]
  },
  {
   "cell_type": "code",
   "execution_count": 8,
   "metadata": {},
   "outputs": [
    {
     "name": "stdout",
     "output_type": "stream",
     "text": [
      "{'AtomCalculator': <class 'molfeat.calc.atom.AtomCalculator'>,\n",
      " 'AtomMaterialCalculator': <class 'molfeat.calc.atom.AtomMaterialCalculator'>,\n",
      " 'BondCalculator': <class 'molfeat.calc.bond.BondCalculator'>,\n",
      " 'CATS': <class 'molfeat.calc.cats.CATS'>,\n",
      " 'DGLCanonicalAtomCalculator': <class 'molfeat.calc.atom.DGLCanonicalAtomCalculator'>,\n",
      " 'DGLCanonicalBondCalculator': <class 'molfeat.calc.bond.DGLCanonicalBondCalculator'>,\n",
      " 'DGLWeaveAtomCalculator': <class 'molfeat.calc.atom.DGLWeaveAtomCalculator'>,\n",
      " 'DGLWeaveEdgeCalculator': <class 'molfeat.calc.bond.DGLWeaveEdgeCalculator'>,\n",
      " 'EdgeMatCalculator': <class 'molfeat.calc.bond.EdgeMatCalculator'>,\n",
      " 'ElectroShapeDescriptors': <class 'molfeat.calc.shape.ElectroShapeDescriptors'>,\n",
      " 'FPCalculator': <class 'molfeat.calc.fingerprints.FPCalculator'>,\n",
      " 'MordredDescriptors': <class 'molfeat.calc.descriptors.MordredDescriptors'>,\n",
      " 'PadelDescriptors': <class 'molfeat_padel.calc.padel.PadelDescriptors'>,\n",
      " 'Pharmacophore2D': <class 'molfeat.calc.pharmacophore.Pharmacophore2D'>,\n",
      " 'Pharmacophore3D': <class 'molfeat.calc.pharmacophore.Pharmacophore3D'>,\n",
      " 'RDKitDescriptors2D': <class 'molfeat.calc.descriptors.RDKitDescriptors2D'>,\n",
      " 'RDKitDescriptors3D': <class 'molfeat.calc.descriptors.RDKitDescriptors3D'>,\n",
      " 'ScaffoldKeyCalculator': <class 'molfeat.calc.skeys.ScaffoldKeyCalculator'>,\n",
      " 'USRDescriptors': <class 'molfeat.calc.shape.USRDescriptors'>}\n"
     ]
    }
   ],
   "source": [
    "# it's also in the list of calculators, similar to case 2\n",
    "from molfeat.calc import _CALCULATORS\n",
    "pprint(_CALCULATORS)"
   ]
  }
 ],
 "metadata": {
  "kernelspec": {
   "display_name": "Python 3",
   "language": "python",
   "name": "python3"
  },
  "language_info": {
   "codemirror_mode": {
    "name": "ipython",
    "version": 3
   },
   "file_extension": ".py",
   "mimetype": "text/x-python",
   "name": "python",
   "nbconvert_exporter": "python",
   "pygments_lexer": "ipython3",
   "version": "3.10.10"
  },
  "orig_nbformat": 4
 },
 "nbformat": 4,
 "nbformat_minor": 2
}
